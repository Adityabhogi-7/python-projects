{
 "cells": [
  {
   "cell_type": "code",
   "execution_count": 1,
   "id": "eadba879",
   "metadata": {},
   "outputs": [
    {
     "name": "stdout",
     "output_type": "stream",
     "text": [
      "Requirement already satisfied: tk in c:\\users\\adity\\anaconda3\\lib\\site-packages (0.1.0)\n",
      "Note: you may need to restart the kernel to use updated packages.\n"
     ]
    }
   ],
   "source": [
    "pip install tk"
   ]
  },
  {
   "cell_type": "code",
   "execution_count": 2,
   "id": "abd7ac2d",
   "metadata": {},
   "outputs": [
    {
     "name": "stdout",
     "output_type": "stream",
     "text": [
      "Requirement already satisfied: googletrans in c:\\users\\adity\\anaconda3\\lib\\site-packages (3.0.0)\n",
      "Requirement already satisfied: httpx==0.13.3 in c:\\users\\adity\\anaconda3\\lib\\site-packages (from googletrans) (0.13.3)\n",
      "Requirement already satisfied: certifi in c:\\users\\adity\\anaconda3\\lib\\site-packages (from httpx==0.13.3->googletrans) (2022.9.14)\n",
      "Requirement already satisfied: chardet==3.* in c:\\users\\adity\\anaconda3\\lib\\site-packages (from httpx==0.13.3->googletrans) (3.0.4)\n",
      "Requirement already satisfied: httpcore==0.9.* in c:\\users\\adity\\anaconda3\\lib\\site-packages (from httpx==0.13.3->googletrans) (0.9.1)\n",
      "Requirement already satisfied: idna==2.* in c:\\users\\adity\\anaconda3\\lib\\site-packages (from httpx==0.13.3->googletrans) (2.10)\n",
      "Requirement already satisfied: rfc3986<2,>=1.3 in c:\\users\\adity\\anaconda3\\lib\\site-packages (from httpx==0.13.3->googletrans) (1.5.0)\n",
      "Requirement already satisfied: hstspreload in c:\\users\\adity\\anaconda3\\lib\\site-packages (from httpx==0.13.3->googletrans) (2023.1.1)\n",
      "Requirement already satisfied: sniffio in c:\\users\\adity\\anaconda3\\lib\\site-packages (from httpx==0.13.3->googletrans) (1.2.0)\n",
      "Requirement already satisfied: h11<0.10,>=0.8 in c:\\users\\adity\\anaconda3\\lib\\site-packages (from httpcore==0.9.*->httpx==0.13.3->googletrans) (0.9.0)\n",
      "Requirement already satisfied: h2==3.* in c:\\users\\adity\\anaconda3\\lib\\site-packages (from httpcore==0.9.*->httpx==0.13.3->googletrans) (3.2.0)\n",
      "Requirement already satisfied: hyperframe<6,>=5.2.0 in c:\\users\\adity\\anaconda3\\lib\\site-packages (from h2==3.*->httpcore==0.9.*->httpx==0.13.3->googletrans) (5.2.0)\n",
      "Requirement already satisfied: hpack<4,>=3.0 in c:\\users\\adity\\anaconda3\\lib\\site-packages (from h2==3.*->httpcore==0.9.*->httpx==0.13.3->googletrans) (3.0.0)\n",
      "Note: you may need to restart the kernel to use updated packages.\n"
     ]
    }
   ],
   "source": [
    "pip install googletrans"
   ]
  },
  {
   "cell_type": "code",
   "execution_count": 3,
   "id": "023abbde",
   "metadata": {},
   "outputs": [
    {
     "name": "stdout",
     "output_type": "stream",
     "text": [
      "Requirement already satisfied: textblob in c:\\users\\adity\\anaconda3\\lib\\site-packages (0.17.1)\n",
      "Requirement already satisfied: nltk>=3.1 in c:\\users\\adity\\anaconda3\\lib\\site-packages (from textblob) (3.7)\n",
      "Requirement already satisfied: click in c:\\users\\adity\\anaconda3\\lib\\site-packages (from nltk>=3.1->textblob) (8.0.4)\n",
      "Requirement already satisfied: joblib in c:\\users\\adity\\anaconda3\\lib\\site-packages (from nltk>=3.1->textblob) (1.1.0)\n",
      "Requirement already satisfied: regex>=2021.8.3 in c:\\users\\adity\\anaconda3\\lib\\site-packages (from nltk>=3.1->textblob) (2022.7.9)\n",
      "Requirement already satisfied: tqdm in c:\\users\\adity\\anaconda3\\lib\\site-packages (from nltk>=3.1->textblob) (4.64.1)\n",
      "Requirement already satisfied: colorama in c:\\users\\adity\\anaconda3\\lib\\site-packages (from click->nltk>=3.1->textblob) (0.4.5)\n",
      "Note: you may need to restart the kernel to use updated packages.\n"
     ]
    }
   ],
   "source": [
    "pip install -U textblob"
   ]
  },
  {
   "cell_type": "code",
   "execution_count": 4,
   "id": "943887fb",
   "metadata": {},
   "outputs": [],
   "source": [
    "from tkinter import *\n",
    "import googletrans\n",
    "import textblob\n",
    "from tkinter import ttk, messagebox"
   ]
  },
  {
   "cell_type": "code",
   "execution_count": 5,
   "id": "94b896d2",
   "metadata": {},
   "outputs": [],
   "source": [
    "root = Tk()\n",
    "root.title('Language Translator')\n",
    "root.geometry('870x320')\n",
    "root.configure(bg='#C4DFDF')"
   ]
  },
  {
   "cell_type": "code",
   "execution_count": 6,
   "id": "204f0f3d",
   "metadata": {},
   "outputs": [],
   "source": [
    "primary_color = 'black'\n",
    "secondary_color = '#E3F4F4'"
   ]
  },
  {
   "cell_type": "code",
   "execution_count": 7,
   "id": "de04e5e2",
   "metadata": {},
   "outputs": [],
   "source": [
    "def translate():\n",
    "    translated_text.delete(1.0, END)\n",
    "\n",
    "    try:\n",
    "        original_lang = original_combo.get()\n",
    "        translated_lang = translate_combo.get()\n",
    "\n",
    "        words = textblob.TextBlob(original_text.get(1.0, END))\n",
    "\n",
    "        words = words.translate(from_lang=original_lang, to=translated_lang)\n",
    "\n",
    "        translated_text.insert(1.0, words)\n",
    "\n",
    "    except Exception as e:\n",
    "        messagebox.showerror(\"Translator\", e)"
   ]
  },
  {
   "cell_type": "code",
   "execution_count": 8,
   "id": "d5e9df63",
   "metadata": {},
   "outputs": [],
   "source": [
    "def interchange():  \n",
    "    original_value = original_combo.get()\n",
    "    translate_value = translate_combo.get()\n",
    "\n",
    "    original_combo.set(translate_value)\n",
    "    translate_combo.set(original_value)\n",
    "\n",
    "    original_text_value = original_text.get(1.0,END)\n",
    "    translated_text_value = translated_text.get(1.0,END)\n",
    "\n",
    "    original_text.delete(1.0,END)   \n",
    "    translated_text.delete(1.0,END)\n",
    "\n",
    "    original_text.insert(1.0, translated_text_value)\n",
    "    translated_text.insert(1.0, original_text)"
   ]
  },
  {
   "cell_type": "code",
   "execution_count": 9,
   "id": "00d232f9",
   "metadata": {},
   "outputs": [],
   "source": [
    "def clear():\n",
    "    original_text.delete(1.0,END)\n",
    "    translated_text.delete(1.0,END)"
   ]
  },
  {
   "cell_type": "code",
   "execution_count": 10,
   "id": "d29d1536",
   "metadata": {},
   "outputs": [],
   "source": [
    "languages = googletrans.LANGUAGES\n",
    "language = ['te', 'en']"
   ]
  },
  {
   "cell_type": "code",
   "execution_count": 11,
   "id": "1b6b3a4b",
   "metadata": {},
   "outputs": [],
   "source": [
    "original_text = Text(root, height = 10, width = 40)\n",
    "original_text.grid(row = 0, column = 0, padx = 10, pady = 20)"
   ]
  },
  {
   "cell_type": "code",
   "execution_count": 12,
   "id": "a3129edb",
   "metadata": {},
   "outputs": [],
   "source": [
    "translate_button = Button(root,text='Translate', font=(\"Times New Roman\",24),command=translate,bg=secondary_color, fg=primary_color)\n",
    "translate_button.grid(row=0,column=1,padx=5)"
   ]
  },
  {
   "cell_type": "code",
   "execution_count": 13,
   "id": "1d450936",
   "metadata": {},
   "outputs": [],
   "source": [
    "interchange_button = Button(root,text=\"< -- >\",font=(\"Times New Roman\",12),command=interchange,bg=secondary_color, fg=primary_color)\n",
    "interchange_button.grid(row=1,column=1,padx=10)"
   ]
  },
  {
   "cell_type": "code",
   "execution_count": 14,
   "id": "f3da8469",
   "metadata": {},
   "outputs": [],
   "source": [
    "translated_text = Text(root, height=10, width=40)\n",
    "translated_text.grid(row=0,column=2,padx=10,pady=20)"
   ]
  },
  {
   "cell_type": "code",
   "execution_count": 15,
   "id": "6b4b32d4",
   "metadata": {},
   "outputs": [],
   "source": [
    "original_combo = ttk.Combobox(root, width=50, value=['en', 'te'])\n",
    "original_combo.current(0)\n",
    "original_combo.grid(row=1, column=0)\n",
    "\n",
    "translate_combo = ttk.Combobox(root, width=50, value=['en', 'te'])\n",
    "translate_combo.current(1)\n",
    "translate_combo.grid(row=1, column=2)"
   ]
  },
  {
   "cell_type": "code",
   "execution_count": 16,
   "id": "57df0ea4",
   "metadata": {},
   "outputs": [],
   "source": [
    "clear_text = Button(root,text=\"Clear\",font=(\"Times New Roman\",16),command=clear,bg=secondary_color, fg=primary_color)\n",
    "clear_text.grid(row=3,column=1, padx=15)"
   ]
  },
  {
   "cell_type": "code",
   "execution_count": 17,
   "id": "a0a310b9",
   "metadata": {},
   "outputs": [],
   "source": [
    "root.mainloop()"
   ]
  },
  {
   "cell_type": "code",
   "execution_count": null,
   "id": "5f80e818",
   "metadata": {},
   "outputs": [],
   "source": []
  }
 ],
 "metadata": {
  "kernelspec": {
   "display_name": "Python 3 (ipykernel)",
   "language": "python",
   "name": "python3"
  },
  "language_info": {
   "codemirror_mode": {
    "name": "ipython",
    "version": 3
   },
   "file_extension": ".py",
   "mimetype": "text/x-python",
   "name": "python",
   "nbconvert_exporter": "python",
   "pygments_lexer": "ipython3",
   "version": "3.9.13"
  }
 },
 "nbformat": 4,
 "nbformat_minor": 5
}
