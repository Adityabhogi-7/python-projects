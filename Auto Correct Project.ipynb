{
 "cells": [
  {
   "cell_type": "code",
   "execution_count": 1,
   "id": "1c8b0dce",
   "metadata": {},
   "outputs": [
    {
     "name": "stdout",
     "output_type": "stream",
     "text": [
      "Requirement already satisfied: tk in c:\\users\\adity\\anaconda3\\lib\\site-packages (0.1.0)\n",
      "Note: you may need to restart the kernel to use updated packages.\n"
     ]
    }
   ],
   "source": [
    "pip install tk"
   ]
  },
  {
   "cell_type": "code",
   "execution_count": 2,
   "id": "a5bce21e",
   "metadata": {},
   "outputs": [
    {
     "name": "stdout",
     "output_type": "stream",
     "text": [
      "Requirement already satisfied: autocorrect in c:\\users\\adity\\anaconda3\\lib\\site-packages (2.6.1)\n",
      "Note: you may need to restart the kernel to use updated packages.\n"
     ]
    }
   ],
   "source": [
    "pip install autocorrect"
   ]
  },
  {
   "cell_type": "code",
   "execution_count": 3,
   "id": "0733371c",
   "metadata": {},
   "outputs": [],
   "source": [
    "import tkinter as tk\n",
    "from autocorrect import Speller"
   ]
  },
  {
   "cell_type": "code",
   "execution_count": 4,
   "id": "c6209d46",
   "metadata": {},
   "outputs": [],
   "source": [
    "class AutoCorrectGUI:\n",
    "    def __init__(self, root):\n",
    "        self.root = root\n",
    "        self.root.title(\"AutoCorrect\")\n",
    "        self.speller = Speller(lang='en')\n",
    "        \n",
    "        self.entry_frame = tk.Frame(root)\n",
    "        self.entry_frame.pack()\n",
    "        self.text_entry = tk.Text(self.entry_frame, height=870, width=370)\n",
    "        self.text_entry.pack(side=tk.LEFT, fill=tk.BOTH, expand=True)\n",
    "\n",
    "        self.corrected_frame = tk.Frame(root)\n",
    "        self.corrected_frame.pack()\n",
    "\n",
    "        self.corrected_text = tk.Text(self.corrected_frame, height=10, width=50, state='disabled')\n",
    "        self.corrected_text.pack(side=tk.LEFT, fill=tk.BOTH, expand=True)\n",
    "\n",
    "        self.text_entry.bind(\"<KeyRelease>\", self.correct_text)\n",
    "\n",
    "        self.root.bind(\"<Configure>\", self.resize_text_boxes)\n",
    "\n",
    "    def correct_text(self, event=None):\n",
    "        input_text = self.text_entry.get(\"1.0\", tk.END).strip()\n",
    "\n",
    "        if not input_text:\n",
    "            self.corrected_text.config(state='normal')\n",
    "            self.corrected_text.delete(\"1.0\", tk.END)\n",
    "            self.corrected_text.config(state='disabled')\n",
    "            return\n",
    "\n",
    "        words = input_text.split()\n",
    "\n",
    "        corrected_words = []\n",
    "        for word in words:\n",
    "            corrected_word = self.speller(word)\n",
    "            corrected_words.append(corrected_word)\n",
    "            \n",
    "        corrected_text = ' '.join(corrected_words)\n",
    "\n",
    "        self.corrected_text.config(state='normal')\n",
    "        self.corrected_text.delete(\"1.0\", tk.END)\n",
    "        self.corrected_text.insert(tk.END, corrected_text)\n",
    "        self.corrected_text.config(state='disabled')\n",
    "\n",
    "\n",
    "    def resize_text_boxes(self, event):\n",
    "        window_width = self.root.winfo_width()\n",
    "        window_height = self.root.winfo_height()\n",
    "        self.text_entry.config(width=int(window_width / 10), height=int(window_height / 30))\n",
    "        self.corrected_text.config(width=int(window_width / 10), height=int(window_height / 30))"
   ]
  },
  {
   "cell_type": "code",
   "execution_count": 5,
   "id": "54445eec",
   "metadata": {},
   "outputs": [],
   "source": [
    "if __name__ == \"__main__\":\n",
    "    root = tk.Tk()\n",
    "    app = AutoCorrectGUI(root)\n",
    "    root.mainloop()"
   ]
  }
 ],
 "metadata": {
  "kernelspec": {
   "display_name": "Python 3 (ipykernel)",
   "language": "python",
   "name": "python3"
  },
  "language_info": {
   "codemirror_mode": {
    "name": "ipython",
    "version": 3
   },
   "file_extension": ".py",
   "mimetype": "text/x-python",
   "name": "python",
   "nbconvert_exporter": "python",
   "pygments_lexer": "ipython3",
   "version": "3.9.13"
  }
 },
 "nbformat": 4,
 "nbformat_minor": 5
}
